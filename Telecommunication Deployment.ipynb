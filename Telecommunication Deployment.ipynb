{
 "cells": [
  {
   "cell_type": "code",
   "execution_count": 2,
   "id": "b1e8efb1",
   "metadata": {},
   "outputs": [],
   "source": [
    "import pandas as pd\n",
    "import streamlit as st\n",
    "from sklearn.linear_model import LogisticRegression\n",
    "from sklearn.ensemble import RandomForestClassifier\n",
    "from pickle import dump\n",
    "from pickle import load\n",
    "\n",
    "import warnings\n",
    "warnings.filterwarnings('ignore')"
   ]
  },
  {
   "cell_type": "code",
   "execution_count": 5,
   "id": "6de6ca87",
   "metadata": {},
   "outputs": [
    {
     "data": {
      "text/plain": [
       "DeltaGenerator(_root_container=1, _provided_cursor=None, _parent=DeltaGenerator(_root_container=0, _provided_cursor=None, _parent=None, _block_type=None, _form_data=None), _block_type=None, _form_data=None)"
      ]
     },
     "execution_count": 5,
     "metadata": {},
     "output_type": "execute_result"
    }
   ],
   "source": [
    "st.title('Model Deployment: Logistic Regression')\n",
    "st.sidebar.header('User Input Parameters')\n"
   ]
  },
  {
   "cell_type": "code",
   "execution_count": 6,
   "id": "3123aedd",
   "metadata": {},
   "outputs": [],
   "source": [
    "def user_input_features():\n",
    "    account_length = st.sidebar.number_input('Insert the Account Length')\n",
    "    voice_mail_plan  = st.sidebar.selectbox('Plan',('1','0'))\n",
    "    voice_mail_messages = st.sidebar.number_input('Insert the Voice Mail Messages')\n",
    "    day_mins = st.sidebar.number_input(\"Insert Day Minute\")\n",
    "    evening_mins = st.sidebar.number_input(\"Insert Evening Minute\")\n",
    "    night_mins = st.sidebar.number_input(\"Insert Night Minute\")\n",
    "    international_mins = st.sidebar.number_input(\"Insert International Minute\")\n",
    "    customer_service_calls = st.sidebar.number_input('Insert Customer Service calls')\n",
    "    international_plan = st.sidebar.selectbox('Plan',('1','0'))\n",
    "    day_calls = st.sidebar.number_input('Insert Number of Day Calls')\n",
    "    day_charge = st.sidebar.number_input('Insert Day call Charge')\n",
    "    evening_calls = st.sidebar.number_input('Insert Number of Evening Calls')\n",
    "    evening_charge = st.sidebar.number_input('Insert Evening call Charge')\n",
    "    night_calls = st.sidebar.number_input('Insert Number of Night Calls')\n",
    "    night_charge = st.sidebar.number_input('Insert Night call Charge')\n",
    "    international_calls = st.sidebar.number_input('Insert Number of International Calls')\n",
    "    international_charge = st.sidebar.number_input('Insert International call Charge')\n",
    "    total_charge = st.sidebar.number_input('Insert Total Charge')\n",
    "    data = {'account_length':account_length,\n",
    "            'voice_mail_plan':voice_mail_plan,\n",
    "            'voice_mail_messages':voice_mail_messages,\n",
    "            'day_mins':day_mins,\n",
    "            'evening_mins':evening_mins,\n",
    "            'night_mins':night_mins,\n",
    "            'international_mins':international_mins,\n",
    "            'customer_service_calls':customer_service_calls,\n",
    "            'international_plan':international_plan,\n",
    "            'day_calls':day_calls,\n",
    "            'day_charge':day_charge,\n",
    "            'evening_calls':evening_calls,\n",
    "            'evening_charge':evening_charge,\n",
    "            'night_calls':night_calls,\n",
    "            'night_charge':night_charge,\n",
    "            'international_calls':international_calls,\n",
    "            'international_charge':international_charge,\n",
    "            'total_charge':total_charge}\n",
    "    features = pd.DataFrame(data,index = [0])\n",
    "    return features"
   ]
  },
  {
   "cell_type": "code",
   "execution_count": 7,
   "id": "6cd18dac",
   "metadata": {},
   "outputs": [],
   "source": [
    "df = user_input_features()\n",
    "st.subheader('User Input parameters')\n",
    "st.write(df)"
   ]
  },
  {
   "cell_type": "code",
   "execution_count": 10,
   "id": "a1bcabe8",
   "metadata": {},
   "outputs": [],
   "source": [
    "loaded_model = load(open('filename', 'rb'))\n",
    "prediction = loaded_model.predict(df)\n",
    "prediction_proba = loaded_model.predict_proba(df)\n"
   ]
  },
  {
   "cell_type": "code",
   "execution_count": 11,
   "id": "f8bb0c46",
   "metadata": {},
   "outputs": [],
   "source": [
    "st.subheader('Predicted Result')\n",
    "st.write('Yes' if prediction_proba[0][1] > 0.5 else 'No')"
   ]
  },
  {
   "cell_type": "code",
   "execution_count": 12,
   "id": "365d786e",
   "metadata": {},
   "outputs": [],
   "source": [
    "st.subheader('Prediction Probability')\n",
    "st.write(prediction_proba)"
   ]
  },
  {
   "cell_type": "code",
   "execution_count": null,
   "id": "9efd9c79",
   "metadata": {},
   "outputs": [],
   "source": []
  }
 ],
 "metadata": {
  "kernelspec": {
   "display_name": "Python 3 (ipykernel)",
   "language": "python",
   "name": "python3"
  },
  "language_info": {
   "codemirror_mode": {
    "name": "ipython",
    "version": 3
   },
   "file_extension": ".py",
   "mimetype": "text/x-python",
   "name": "python",
   "nbconvert_exporter": "python",
   "pygments_lexer": "ipython3",
   "version": "3.9.7"
  }
 },
 "nbformat": 4,
 "nbformat_minor": 5
}
